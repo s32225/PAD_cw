{
 "cells": [
  {
   "cell_type": "markdown",
   "metadata": {},
   "source": [
    "## Uwagi\n",
    "- Komentarz to fragment tekstu dodany do kodu w celu wyjaśnienia i ułatwienia zrozumienia dla każdego czytającego, który nie jest autorem.\n",
    "- \\# na początku linii wskazuje, że linia jest komentarzem w komórce kodu.\n",
    "- Istnieją dwie szkoły myślenia o komentarzach: niektórzy twierdzą, że komentarze powinny być używane w szerokim zakresie, inni twierdzą, że powinny one być minimalne, ponieważ kod powinien być oczywisty.\n",
    "- Nie bój się na początku dodawać wielu komentarzy; gdy będziesz coraz lepszy w kodowaniu, zaczniesz zdawać sobie sprawę, co wymaga komentarza, a co nie.\n",
    "- Pamiętaj, że __czytelność i odtwarzalność są najważniejsze__. Użyj tego, aby pokierować korzystaniem z komentarzy."
   ]
  },
  {
   "cell_type": "markdown",
   "metadata": {},
   "source": [
    "## Typy danych w Pythonie\n",
    "Python może przyjmować wiele typów danych, w tym:\n",
    "- liczby całkowite (int).\n",
    "- Liczby zmiennoprzecinkowe (float).\n",
    "- Napisy (str).\n",
    "- Listy (lista).\n",
    "- Słowniki (dict).\n",
    "- Krotki (tuple).\n",
    "- Zbiory (set).\n",
    "- Boole'a (bool)."
   ]
  },
  {
   "cell_type": "markdown",
   "metadata": {},
   "source": [
    "## Liczby w Pythonie\n",
    "- Liczby w Pythonie są dwojakiego rodzaju:\n",
    "    - liczby całkowite (int).\n",
    "    - Liczby zmiennoprzecinkowe (float).\n",
    "- Mówiąc prościej:\n",
    "    - Liczba całkowita to liczba całkowita.\n",
    "    — Liczba zmiennoprzecinkowa to dowolna liczba z przecinkiem dziesiętnym.\n",
    "- Jedynym haczykiem związanym z liczbami zmiennoprzecinkowymi jest to, że ze względu na naturę obliczeń zmiennoprzecinkowych nie są one dokładnie tym, czego się po nich spodziewasz, dlatego często lepiej jest je zaokrąglać."
   ]
  },
  {
   "cell_type": "markdown",
   "metadata": {},
   "source": [
    "## Arytmetyka w Pythonie\n",
    "- Arytmetyka jest dość prosta: używamy standardowych operatorów:\n",
    "### / * + - <br>\n",
    "- Python będzie przestrzegać kolejności operacji.\n",
    "- Używamy podwójnej gwiazdki __\\*\\*__ dla potęg (pierwiastki to tylko potęgi ułamkowe).\n",
    "- Dzielenie zawsze zwraca liczbę zmiennoprzecinkową.\n",
    "- Istnieje kilka operacji specjalnych:\n",
    "    - Modulo (x%y) daje resztę z dzielenia x przez y.\n",
    "    - Podział (x//y) daje wynik dzielenia x przez y zaokrąglony w dół do najbliższej liczby całkowitej.\n",
    "- Używając operatorów arytmetycznych, zostaw jedną spację po obu stronach zgodnie z konwencją, chyba że brak spacji czyni ją bardziej przejrzystą."
   ]
  },
  {
   "cell_type": "code",
   "execution_count": null,
   "metadata": {},
   "outputs": [],
   "source": [
    "# Dodawanie\n",
    "2 + 1"
   ]
  },
  {
   "cell_type": "code",
   "execution_count": null,
   "metadata": {},
   "outputs": [],
   "source": [
    "# Odejmowanie\n",
    "2 - 1"
   ]
  },
  {
   "cell_type": "code",
   "execution_count": null,
   "metadata": {},
   "outputs": [],
   "source": [
    "# Mnożenie\n",
    "2 * 2"
   ]
  },
  {
   "cell_type": "code",
   "execution_count": null,
   "metadata": {},
   "outputs": [],
   "source": [
    "# Dzielenie\n",
    "10 / 3"
   ]
  },
  {
   "cell_type": "markdown",
   "metadata": {},
   "source": [
    "# Dzielenie z zaokr agleniem\n",
    "7 // 4"
   ]
  },
  {
   "cell_type": "code",
   "execution_count": null,
   "metadata": {},
   "outputs": [],
   "source": [
    "# Modulo\n",
    "7 % 4"
   ]
  },
  {
   "cell_type": "code",
   "execution_count": null,
   "metadata": {},
   "outputs": [],
   "source": [
    "# Jeżeli modulo 2 jest równe 0, to liczba jest parzysta \n",
    "6 % 2"
   ]
  },
  {
   "cell_type": "code",
   "execution_count": null,
   "metadata": {},
   "outputs": [],
   "source": [
    "# Potęgi\n",
    "2 ** 3"
   ]
  },
  {
   "cell_type": "code",
   "execution_count": null,
   "metadata": {},
   "outputs": [],
   "source": [
    "# Pierwiastki\n",
    "4 ** 0.5"
   ]
  },
  {
   "cell_type": "code",
   "execution_count": null,
   "metadata": {},
   "outputs": [],
   "source": [
    "# Kolejność operacji w Pythonie\n",
    "(2 + 10) * 10 + 3"
   ]
  },
  {
   "cell_type": "code",
   "execution_count": null,
   "metadata": {},
   "outputs": [],
   "source": [
    "# Korzystanie z nawiasów w celu kontroli kolejności\n",
    "(2 + 10) * (10 + 3)"
   ]
  },
  {
   "cell_type": "code",
   "execution_count": null,
   "metadata": {},
   "outputs": [],
   "source": [
    "# zaokrąglanie\n",
    "round(10/3, 4)"
   ]
  },
  {
   "cell_type": "markdown",
   "metadata": {},
   "source": [
    "### Brak typu\n",
    "- Musimy tutaj rozróżnić None i 0.\n",
    "- None ma typ danych „NoneType” i dlatego nie jest wartością (można użyć jako symbolu zastępczego przed dodaniem wartości).\n",
    "-0 jest liczbą całkowitą, a więc wartością, to pokazuje, że mamy wartość, ale wartość jest liczbą całkowitą 0.\n",
    "- Widać to wyraźnie, gdy sprawdzimy typy każdego z nich"
   ]
  },
  {
   "cell_type": "code",
   "execution_count": null,
   "metadata": {},
   "outputs": [],
   "source": [
    "type(None)"
   ]
  },
  {
   "cell_type": "code",
   "execution_count": null,
   "metadata": {},
   "outputs": [],
   "source": [
    "type(0)"
   ]
  },
  {
   "cell_type": "code",
   "execution_count": null,
   "metadata": {},
   "outputs": [],
   "source": [
    "# zadziala\n",
    "0 + 1"
   ]
  },
  {
   "cell_type": "code",
   "execution_count": null,
   "metadata": {},
   "outputs": [],
   "source": [
    "# zwroci error\n",
    "None + 1"
   ]
  },
  {
   "cell_type": "code",
   "execution_count": null,
   "metadata": {},
   "outputs": [],
   "source": []
  },
  {
   "cell_type": "markdown",
   "metadata": {},
   "source": [
    "## Ćwiczenia z liczbami\n",
    "- Dodaj swój kod do komentowanych komórek, mówiąc „CODE HERE”."
   ]
  },
  {
   "cell_type": "markdown",
   "metadata": {},
   "source": [
    "### Q1:\n",
    "Napisz wyrażenie używając dodawania i odejmowania oraz mnożenia i dzielenia, które jest równe 1044,75"
   ]
  },
  {
   "cell_type": "code",
   "execution_count": 1,
   "metadata": {},
   "outputs": [
    {
     "data": {
      "text/plain": [
       "1044.75"
      ]
     },
     "execution_count": 1,
     "metadata": {},
     "output_type": "execute_result"
    }
   ],
   "source": [
    "# CODE HERE\n",
    "1050 - 10 + 4 + (1/4 * 3) "
   ]
  },
  {
   "cell_type": "markdown",
   "metadata": {},
   "source": [
    "### Q2:\n",
    "Jaki będzie wynik 1 \\+ 2 \\* 3 \\- 4 / 6(6 \\+ 7) \\* 8 \\*\\* 9?"
   ]
  },
  {
   "cell_type": "code",
   "execution_count": 3,
   "metadata": {},
   "outputs": [
    {
     "data": {
      "text/plain": [
       "-1163220302.3333333"
      ]
     },
     "execution_count": 3,
     "metadata": {},
     "output_type": "execute_result"
    }
   ],
   "source": [
    "# CODE HERE\n",
    "1 + 2 * 3 - 4 / 6 * (6 +7) * 8 ** 9"
   ]
  },
  {
   "cell_type": "code",
   "execution_count": null,
   "metadata": {},
   "outputs": [],
   "source": []
  },
  {
   "cell_type": "markdown",
   "metadata": {},
   "source": [
    "## Przypisanie zmiennej\n",
    "- Często chcemy wielokrotnie używać tego samego obiektu, dlatego zamiast definiować go wielokrotnie w kodzie, możemy przypisać zmienną, której używamy zamiast tego.\n",
    "- Ta koncepcja nazywa się kodowaniem DRY (Don't Repeat Yourself): w całym tekście zobaczymy wiele przykładów.\n",
    "- Przypisujemy zmienne za pomocą znaku równości __=__ w Pythonie\n",
    "- Python jest typowany dynamicznie: jeśli przypiszesz zmienną, można ją później zmienić na coś innego w twoim kodzie (NIE jak C, który jest typowany statycznie).\n",
    "- Zmienne są nazywane według następujących wskazówek:"
   ]
  },
  {
   "cell_type": "markdown",
   "metadata": {},
   "source": [
    "## Nazewnictwo zmiennych\n",
    "1. Użyj __snake_case__: wszystkie małe litery, bez spacji, zamiast tego podkreślenia \\_.\n",
    "2. Nazwy nie mogą zaczynać się od cyfry ani używać następujących symboli:\n",
    "## \\:\\'\\\"\\,\\<\\>\\/\\?\\|\\\\\\(\\)\\!@\\#\\$\\%\\^\\&\\*\\~\\-\\+\n",
    "<br>\n",
    "3. Unikaj używania „l” (małe l), „O” (wielkie o) lub „I” (wielkie i) jako nazw pojedynczych znaków.\n",
    "4. Nie używaj __NIE__ słów kluczowych Pythona (lista słów kluczowych znajduje się poniżej).\n",
    "<br><br>\n",
    "__Jeśli przypadkowo zmienisz przypisanie słowa kluczowego Pythona, użyj jądra --> Uruchom ponownie, aby przywrócić wszystko do normy.__\n",
    "<br><br>\n",
    "Więcej informacji można znaleźć w PEP8: https://www.python.org/dev/peps/pep-0008/"
   ]
  },
  {
   "cell_type": "code",
   "execution_count": 4,
   "metadata": {},
   "outputs": [
    {
     "name": "stdout",
     "output_type": "stream",
     "text": [
      "False\n",
      "None\n",
      "True\n",
      "and\n",
      "as\n",
      "assert\n",
      "async\n",
      "await\n",
      "break\n",
      "class\n",
      "continue\n",
      "def\n",
      "del\n",
      "elif\n",
      "else\n",
      "except\n",
      "finally\n",
      "for\n",
      "from\n",
      "global\n",
      "if\n",
      "import\n",
      "in\n",
      "is\n",
      "lambda\n",
      "nonlocal\n",
      "not\n",
      "or\n",
      "pass\n",
      "raise\n",
      "return\n",
      "try\n",
      "while\n",
      "with\n",
      "yield\n"
     ]
    }
   ],
   "source": [
    "# List of keywords\n",
    "import keyword\n",
    "\n",
    "for i in keyword.kwlist:\n",
    "    print(i)"
   ]
  },
  {
   "cell_type": "markdown",
   "metadata": {},
   "source": [
    "Tutaj tworzymy obiekt o nazwie x (zmienna) i nadajemy mu wartość całkowitą 5. <br>\n",
    "Znak \\= przypisuje wartość po prawej stronie do obiektu po lewej stronie:"
   ]
  },
  {
   "cell_type": "code",
   "execution_count": null,
   "metadata": {},
   "outputs": [],
   "source": [
    "x = 3"
   ]
  },
  {
   "cell_type": "markdown",
   "metadata": {},
   "source": [
    "Wywołanie zmiennej"
   ]
  },
  {
   "cell_type": "code",
   "execution_count": null,
   "metadata": {},
   "outputs": [],
   "source": [
    "x"
   ]
  },
  {
   "cell_type": "markdown",
   "metadata": {},
   "source": [
    "Arytmetyka wykonywana przy użyciu zmiennych wykorzystuje system bazowych obiektów (różni się pomiędzy typami danych). <br>\n",
    "Zobaczymy, jak to działa, gdy odkryjemy więcej typów danych:"
   ]
  },
  {
   "cell_type": "code",
   "execution_count": null,
   "metadata": {},
   "outputs": [],
   "source": [
    "x + x"
   ]
  },
  {
   "cell_type": "markdown",
   "metadata": {},
   "source": [
    "Możemy zmienić przypisanie x na 10 bez błędów: nazywa się to ponownym przypisaniem i jest przykładem __'typowania dynamicznego'__.<br>\n",
    "W języku __'statycznie typowanym'__, takim jak C, spowoduje to wyświetlenie błędu:"
   ]
  },
  {
   "cell_type": "code",
   "execution_count": null,
   "metadata": {},
   "outputs": [],
   "source": [
    "x = 10"
   ]
  },
  {
   "cell_type": "markdown",
   "metadata": {},
   "source": [
    "3 zmieniło się na 10."
   ]
  },
  {
   "cell_type": "code",
   "execution_count": null,
   "metadata": {},
   "outputs": [],
   "source": [
    "x"
   ]
  },
  {
   "cell_type": "markdown",
   "metadata": {},
   "source": [
    "#### Krótka uwaga na temat funkcji print()\n",
    "- Wcześniej tylko nazywaliśmy zmienną, teraz widzimy, jak ją wyświetlić.\n",
    "- Funkcja print() __wyświetla__ wynik, a nie tylko go zwraca: w Jupyter Notebook często nie ma to praktycznego znaczenia, ale podczas pracy w innych środowiskach IDE możesz nie widzieć danych wyjściowych, chyba że je wydrukujesz.\n",
    "- Staje się to oczywiste, gdy chcesz zobaczyć 2 rzeczy z komórki: Notatnik Jupyter __pokaże tylko ostatnią rozmowę__.\n",
    "- Wyrażenia print() mogą służyć do wyświetlania wielu wyników.\n",
    "- Możemy określić parametr 'end' wewnątrz funkcji print(), aby zmienić sposób zakończenia instrukcji print().\n",
    "- np. __end = \"\\n\\n\" dodaje nową linię po wyjściu print(): może to być przydatne, aby wyjście było bardziej czytelne__.\n",
    "- Pusta instrukcja print() również daje nową linię."
   ]
  },
  {
   "cell_type": "code",
   "execution_count": null,
   "metadata": {},
   "outputs": [],
   "source": [
    "# przypisanie a i b\n",
    "a = 1\n",
    "b = 2\n",
    "\n",
    "# wywołanie a i b\n",
    "a\n",
    "b"
   ]
  },
  {
   "cell_type": "code",
   "execution_count": null,
   "metadata": {},
   "outputs": [],
   "source": [
    "# wyświetlenie a i b\n",
    "print(a)\n",
    "print(b)"
   ]
  },
  {
   "cell_type": "code",
   "execution_count": null,
   "metadata": {},
   "outputs": [],
   "source": [
    "# wykorzystanie \"end\" do utworzenia nowej linii\n",
    "print(a, end=\"\\n\\n\")\n",
    "print(b)"
   ]
  },
  {
   "cell_type": "code",
   "execution_count": null,
   "metadata": {},
   "outputs": [],
   "source": [
    "# wykorzystanie \"print()\" do utworzenia nowej lini\n",
    "print(a)\n",
    "print()\n",
    "print(b)"
   ]
  },
  {
   "cell_type": "markdown",
   "metadata": {},
   "source": [
    "## Powrót do przypisania zmiennej...\n",
    "Możemy nawet przedefiniować x używając samego x. <br>\n",
    "Tutaj x jest __nazywane__ po prawej stronie znaku = i *przedefiniowywane* po lewej stronie. <br>\n",
    "Możemy o tym pomyśleć jako *nowy x* = __stary x__ + __stary x__ (*nowy x* = __10__ + __10__):"
   ]
  },
  {
   "cell_type": "code",
   "execution_count": null,
   "metadata": {},
   "outputs": [],
   "source": [
    "x = x + x"
   ]
  },
  {
   "cell_type": "markdown",
   "metadata": {},
   "source": [
    "x jest teraz równe 20:"
   ]
  },
  {
   "cell_type": "code",
   "execution_count": null,
   "metadata": {},
   "outputs": [],
   "source": [
    "x"
   ]
  },
  {
   "cell_type": "code",
   "execution_count": null,
   "metadata": {},
   "outputs": [],
   "source": [
    "# jasno nazwane zmienne są kluczowe podczas pisania kodu o jakości produkcyjnej\n",
    "shopping_bill = 10.00\n",
    "\n",
    "vat_rate = 1.2\n",
    "\n",
    "bill_with_vat = shopping_bill * vat_rate\n",
    "\n",
    "bill_with_vat"
   ]
  },
  {
   "cell_type": "code",
   "execution_count": null,
   "metadata": {},
   "outputs": [],
   "source": []
  },
  {
   "cell_type": "markdown",
   "metadata": {},
   "source": [
    "## Ćwiczenia przypisywania zmiennych"
   ]
  },
  {
   "cell_type": "markdown",
   "metadata": {},
   "source": [
    "Użyj przypisania zmiennych, aby obliczyć niektóre rachunki za zakupy:\n",
    "- Pomidory kosztują 87 pensów za opakowanie 6\n",
    "- 500g cukru kosztuje 1,09 £\n",
    "- Gąbki do mycia kosztują 29 pensów za opakowanie 10\n",
    "- Sok kosztuje 1,89 £ za butelkę 1,5 l\n",
    "- Folia kosztuje 1,29 £ za 30 m rolkę"
   ]
  },
  {
   "cell_type": "markdown",
   "metadata": {},
   "source": [
    "### Q1:\n",
    "Przypisz zmienne do każdego z tych produktów i ich cen"
   ]
  },
  {
   "cell_type": "code",
   "execution_count": 9,
   "metadata": {},
   "outputs": [],
   "source": [
    "# CODE HERE\n",
    "tomato_6_price = 0.87\n",
    "sugar500_price = 1.09\n",
    "clean_sponge10_price = 0.29\n",
    "juice_1_5_price = 1.89\n",
    "folia30_price = 1.29                    "
   ]
  },
  {
   "cell_type": "markdown",
   "metadata": {},
   "source": [
    "### Q2:\n",
    "\n",
    "Ile kosztuje 1 kg cukru?"
   ]
  },
  {
   "cell_type": "code",
   "execution_count": 8,
   "metadata": {},
   "outputs": [
    {
     "data": {
      "text/plain": [
       "2.18"
      ]
     },
     "execution_count": 8,
     "metadata": {},
     "output_type": "execute_result"
    }
   ],
   "source": [
    "# CODE HERE\n",
    "sugar500_price * 2"
   ]
  },
  {
   "cell_type": "markdown",
   "metadata": {},
   "source": [
    "### Q3:\n",
    "\n",
    "Ile kosztuje 20 gąbek myjących, 3l soku, 2 opakowania pomidorów?"
   ]
  },
  {
   "cell_type": "code",
   "execution_count": 10,
   "metadata": {},
   "outputs": [
    {
     "data": {
      "text/plain": [
       "6.1"
      ]
     },
     "execution_count": 10,
     "metadata": {},
     "output_type": "execute_result"
    }
   ],
   "source": [
    "# CODE HERE\n",
    "clean_sponge10_price*2 +  juice_1_5_price*2 + tomato_6_price*2"
   ]
  },
  {
   "cell_type": "markdown",
   "metadata": {},
   "source": [
    "### Q4:\n",
    "\n",
    "Ile kupić dla 5 osób, jeśli każda potrzebuje:\n",
    "- Paczka pomidorów\n",
    "- 3 gąbki do mycia\n",
    "- Litr soku\n",
    "- 20m folii\n",
    "- 180g cukru\n",
    "<br><br>\n",
    "Pamiętaj, że możesz kupować przedmioty tylko w pełnych paczkach w sklepie, ale można je podzielić w domu.\n",
    "<br><br>\n",
    "Podaj swoją odpowiedź jako wydrukowaną zmienną o nazwie „ogółem”."
   ]
  },
  {
   "cell_type": "code",
   "execution_count": 12,
   "metadata": {},
   "outputs": [],
   "source": [
    "# CODE HERE\n"
   ]
  },
  {
   "cell_type": "markdown",
   "metadata": {},
   "source": [
    "### Q5:\n",
    "Ceny te nie zawierają podatku VAT, oblicz VAT od zakupów z pytania 4, a następnie oblicz całość z VAT. <br>\n",
    "Podaj obie liczby zaokrąglone odpowiednio do wyceny w funtach i pensach. VAT wynosi 20%."
   ]
  },
  {
   "cell_type": "code",
   "execution_count": 17,
   "metadata": {},
   "outputs": [],
   "source": [
    "# CODE HERE\n",
    "vat_of_price_for_5people = 0.20 * price_for_5people\n",
    "allin_price_for_5people = price_for_5people + vat_of_price_for_5people"
   ]
  },
  {
   "cell_type": "code",
   "execution_count": 22,
   "metadata": {},
   "outputs": [
    {
     "data": {
      "text/plain": [
       "3.47"
      ]
     },
     "execution_count": 22,
     "metadata": {},
     "output_type": "execute_result"
    }
   ],
   "source": [
    "round(vat_of_price_for_5people,2)\n",
    " "
   ]
  },
  {
   "cell_type": "code",
   "execution_count": 23,
   "metadata": {},
   "outputs": [
    {
     "data": {
      "text/plain": [
       "20.82"
      ]
     },
     "execution_count": 23,
     "metadata": {},
     "output_type": "execute_result"
    }
   ],
   "source": [
    "round(allin_price_for_5people,2)"
   ]
  },
  {
   "cell_type": "markdown",
   "metadata": {},
   "source": [
    "## Ciągi znaków w Pythonie\n",
    "- Strings (str) to sposób reprezentowania informacji tekstowych w Pythonie.\n",
    "- Oznaczono je cudzysłowami: pojedynczy ('') lub podwójny (\"\").\n",
    "- Zwykle najlepiej jest używać podwójnych znaków mowy, ponieważ apostrofy w tekście mogą przedwcześnie kończyć ciąg.\n",
    "- Apostrofy lub inne znaki specjalne w ciągach można zmienić za pomocą znaku odwrotnego ukośnika \\\\."
   ]
  },
  {
   "cell_type": "markdown",
   "metadata": {},
   "source": [
    "## Funkcje i metody ciągów znaków\n",
    "- print() wyświetla zawarte w nim dane wyjściowe.\n",
    "- W przypadku ciągów, print() interpretuje znaki specjalne (tabulatory, nowe wiersze itp.) i wyświetla ciąg bez cudzysłowów.\n",
    "- Metoda to funkcja powiązana z obiektem.\n",
    "- Struny mają wiele powiązanych metod, przyjrzymy się kilku tutaj.\n",
    "- Resztę można znaleźć pod adresem:\n",
    "<br> https://docs.python.org/2/library/stdtypes.html#string-methods"
   ]
  },
  {
   "cell_type": "code",
   "execution_count": null,
   "metadata": {},
   "outputs": [],
   "source": [
    "x = \"Hello World\"\n",
    "print('hi')"
   ]
  },
  {
   "cell_type": "code",
   "execution_count": null,
   "metadata": {},
   "outputs": [],
   "source": [
    "# Używanie pojedynczych cytatów może być problematyczne, tutaj apostrof wcześnie kończy ciąg\n",
    "print('What's the problem here?')"
   ]
  },
  {
   "cell_type": "code",
   "execution_count": null,
   "metadata": {},
   "outputs": [],
   "source": [
    "# możemy użyć podwójnych cudzysłowów\n",
    "print(\"What's the problem here?\")"
   ]
  },
  {
   "cell_type": "code",
   "execution_count": null,
   "metadata": {},
   "outputs": [],
   "source": [
    "# lub odwrotny ukośnik, jeśli mamy pojedyncze i podwójne cudzysłowy\n",
    "print(\"What\\'s the \\\"problem\\\" here?\")"
   ]
  },
  {
   "cell_type": "code",
   "execution_count": null,
   "metadata": {},
   "outputs": [],
   "source": [
    "# Metoda .upper() tworzy wszystkie drukowane\n",
    "print(x.upper())\n",
    "print(x)\n",
    "\n",
    "\n",
    "y = 1\n",
    "y = str(1)\n",
    "y = int(y)\n",
    "round(y)"
   ]
  },
  {
   "cell_type": "code",
   "execution_count": null,
   "metadata": {},
   "outputs": [],
   "source": [
    "# jeśli chcemy zmienić sam x, musimy go ponownie przypisać\n",
    "print(x)\n",
    "\n",
    "x = x.upper()\n",
    "\n",
    "print(x)"
   ]
  },
  {
   "cell_type": "code",
   "execution_count": null,
   "metadata": {},
   "outputs": [],
   "source": [
    "# Metoda .lower() sprawia, że wszystkie litery są małe\n",
    "print(x.lower())"
   ]
  },
  {
   "cell_type": "code",
   "execution_count": null,
   "metadata": {},
   "outputs": [],
   "source": [
    "# Metoda .split() dzieli się na spację jako domyślny lub pożądany separator\n",
    "print(x.split())\n",
    "print(x.split(\"o\"))"
   ]
  },
  {
   "cell_type": "markdown",
   "metadata": {},
   "source": [
    "## Metoda formatowania\n",
    "- Metoda .format to sposób na wstawienie czegoś do ciągu.\n",
    "— Może to być inny ciąg lub zmienna pobrana z innego miejsca w kodzie.\n",
    "— Zastosowana składnia została szczegółowo opisana poniżej.\n",
    "- Używając formatu .format do dodawania liczby zmiennoprzecinkowej do ciągu, możemy określić szerokość i dokładność ułamka dziesiętnego."
   ]
  },
  {
   "cell_type": "code",
   "execution_count": null,
   "metadata": {},
   "outputs": [],
   "source": [
    "# domyślne wydruki w kolejności\n",
    "print(\"The {} {} {}\".format(\"fox\", \"brown\", \"quick\"))"
   ]
  },
  {
   "cell_type": "code",
   "execution_count": null,
   "metadata": {},
   "outputs": [],
   "source": [
    "# może indeksować\n",
    "print(\"The {2} {1} {0}\".format(\"fox\", \"brown\", \"quick\"))"
   ]
  },
  {
   "cell_type": "code",
   "execution_count": null,
   "metadata": {},
   "outputs": [],
   "source": [
    "# może używać klawiszy zmiennych do czytelności\n",
    "print(\"The {q} {b} {f}\".format(f=\"fox\", b=\"brown\", q=\"quick\"))"
   ]
  },
  {
   "cell_type": "code",
   "execution_count": null,
   "metadata": {},
   "outputs": [],
   "source": [
    "# utwórz długi ułamek dziesiętny\n",
    "result = 100/777\n",
    "print(result, end = \"\\n\\n\")\n",
    "\n",
    "# użyj wartości:width.precisionf do formatowania\n",
    "# szerokość to minimalna długość ciągu, w razie potrzeby uzupełniona spacją\n",
    "# precyzja to miejsca dziesiętne\n",
    "print(\"The result was {:1.3f}\".format(result))\n",
    "print(\"The result was {r:1.3f}\".format(r=result))\n",
    "print(\"The result was {r:1.7f}\".format(r=result))\n",
    "print(\"The result was {r:8.3f}\".format(r=result))"
   ]
  },
  {
   "cell_type": "markdown",
   "metadata": {},
   "source": [
    "## Indeksowanie i wycinanie ciągów\n",
    "- Ciągi są iterowalne, co oznacza, że mogą zwracać swoje elementy pojedynczo.\n",
    "- Ciągi są również niezmienne, co oznacza, że ich elementy nie mogą być zmienione po przypisaniu.\n",
    "- Muszą zostać __PRZEPISANE__, aby je zmienić.\n",
    "- Każdy znak w ciągu jest jednym elementem: obejmuje to spacje i znaki interpunkcyjne.\n",
    "- Możemy to wykorzystać do oddzwonienia jednego elementu (indeksowanie).\n",
    "- Lub szereg elementów (krojenie)."
   ]
  },
  {
   "cell_type": "markdown",
   "metadata": {},
   "source": [
    "W Pythonie:\n",
    "- Indeksowanie zaczyna się od 0 (zero).\n",
    "- Krojenie obejmuje dolną granicę (włącznie).\n",
    "- Krojenie jest wyłączne w górnej granicy (do, ale nie w tym)."
   ]
  },
  {
   "cell_type": "code",
   "execution_count": null,
   "metadata": {},
   "outputs": [],
   "source": [
    "my_first_string = \"Hello World\""
   ]
  },
  {
   "cell_type": "code",
   "execution_count": null,
   "metadata": {},
   "outputs": [],
   "source": [
    "# Index 0 zwraca pierwszy element\n",
    "my_first_string[0]"
   ]
  },
  {
   "cell_type": "markdown",
   "metadata": {},
   "source": [
    "Użyj dwukropka, aby wskazać wycinek, 1:4 zwraca 2. (indeks 1), 3. (indeks 2), 4. (indeks 3) elementy __ale nie 5. (indeks 4)__:"
   ]
  },
  {
   "cell_type": "code",
   "execution_count": null,
   "metadata": {},
   "outputs": [],
   "source": [
    "my_first_string[1:4]"
   ]
  },
  {
   "cell_type": "markdown",
   "metadata": {},
   "source": [
    "Nieobecna górna granica zaczyna się od wskazanego pierwszego indeksu i daje wszystko poza:"
   ]
  },
  {
   "cell_type": "code",
   "execution_count": null,
   "metadata": {},
   "outputs": [],
   "source": [
    "my_first_string[1:]"
   ]
  },
  {
   "cell_type": "markdown",
   "metadata": {},
   "source": [
    "Brak dolnej granicy zaczyna się od indeksu 0, aż do górnej granicy, ale nie obejmuje:"
   ]
  },
  {
   "cell_type": "code",
   "execution_count": null,
   "metadata": {},
   "outputs": [],
   "source": [
    "my_first_string[:3]"
   ]
  },
  {
   "cell_type": "markdown",
   "metadata": {},
   "source": [
    "Nie możemy zmienić elementów ciągu:"
   ]
  },
  {
   "cell_type": "code",
   "execution_count": null,
   "metadata": {},
   "outputs": [],
   "source": [
    "my_first_string[0] = 'l'"
   ]
  },
  {
   "cell_type": "markdown",
   "metadata": {},
   "source": [
    "## Strings Ćwiczenia"
   ]
  },
  {
   "cell_type": "markdown",
   "metadata": {},
   "source": [
    "__Prostopadłościan:__\n",
    "- Wysokość (h): 25/7.\n",
    "- Szerokość (szer.): 25/2.\n",
    "- Długość (l): 35.\n",
    "\n",
    "__Stożek:__\n",
    "- Wysokość (h): 10.\n",
    "- Promień podstawy (r): 3."
   ]
  },
  {
   "cell_type": "markdown",
   "metadata": {},
   "source": [
    "### Pytanie 1:\n",
    "\n",
    "Użyj wzorów, aby uzyskać objętości i pola powierzchni poniższych kształtów i przypisz je do zmiennych. <br>\n",
    "pi zostało zaimportowane dla Ciebie, nazywa się po prostu pi."
   ]
  },
  {
   "cell_type": "markdown",
   "metadata": {},
   "source": [
    "- Objętość prostopadłościanu = l \\* w \\* h\n",
    "- Powierzchnia prostopadłościanu = 2(lw + lh + hw)"
   ]
  },
  {
   "cell_type": "markdown",
   "metadata": {},
   "source": [
    "- Objętość stożka = pi * r\\*\\*2 * h/3\n",
    "- Powierzchnia stożka = pi * r(r + sqrt(h\\*\\*2 + r\\*\\*2))"
   ]
  },
  {
   "cell_type": "code",
   "execution_count": null,
   "metadata": {},
   "outputs": [],
   "source": [
    "cuboid_vol = # CODE HERE\n",
    "\n",
    "\n",
    "cuboid_sa = # CODE HERE"
   ]
  },
  {
   "cell_type": "code",
   "execution_count": null,
   "metadata": {},
   "outputs": [],
   "source": [
    "from math import pi # ignore this line, it just imports pi\n",
    "\n",
    "cone_vol = # CODE HERE\n",
    "\n",
    "cone_sa = # CODE HERE"
   ]
  },
  {
   "cell_type": "markdown",
   "metadata": {},
   "source": [
    "### Pytanie 2:\n",
    "\n",
    "Napisz 2 instrukcje drukowania (po jednym dla każdego kształtu) w formacie:\n",
    "- '(kształt) ma objętość x i powierzchnię y.' <br><br>\n",
    "Gdzie:\n",
    "- kształt prostopadłościanu lub stożka\n",
    "- x to odpowiedni wolumin, który właśnie zdefiniowałeś, dodany przez .format\n",
    "- y to odpowiedni obszar powierzchni, który właśnie zdefiniowałeś, dodany przez .format"
   ]
  },
  {
   "cell_type": "code",
   "execution_count": null,
   "metadata": {},
   "outputs": [],
   "source": [
    "# CODE HERE"
   ]
  },
  {
   "cell_type": "markdown",
   "metadata": {},
   "source": [
    "### Pytanie 3:\n",
    "\n",
    "Napisz jeszcze 2 instrukcje drukowania, tym razem ze sformatowanymi wymiarami każdego kształtu i zaokrągleniem wszystkich liczb do 2 dp. Oświadczenia powinny mieć formę:\n",
    "- '(kształt) ma (wymiary) o objętości x i powierzchni y.'\n",
    "- Oświadczenia o wymiarach są dostarczane dla Ciebie."
   ]
  },
  {
   "cell_type": "code",
   "execution_count": null,
   "metadata": {},
   "outputs": [],
   "source": [
    "cuboid_dim = \"height 3.57, width 12.50, length 35.00\"\n",
    "\n",
    "cone_dim = \"height 10.00, radius 3.00\"\n",
    "\n",
    "# CODE HERE"
   ]
  },
  {
   "cell_type": "code",
   "execution_count": null,
   "metadata": {},
   "outputs": [],
   "source": []
  },
  {
   "cell_type": "markdown",
   "metadata": {},
   "source": [
    "## Dalsza lektura\n",
    "- Dokumentacja stylu PEP8: https://www.python.org/dev/peps/pep-0008/\n",
    "- Metody String: https://docs.python.org/2/library/stdtypes.html#string-methods\n",
    "- Python Brak: https://docs.python.org/3/c-api/none.html"
   ]
  }
 ],
 "metadata": {
  "kernelspec": {
   "display_name": "Python 3",
   "language": "python",
   "name": "python3"
  },
  "language_info": {
   "codemirror_mode": {
    "name": "ipython",
    "version": 3
   },
   "file_extension": ".py",
   "mimetype": "text/x-python",
   "name": "python",
   "nbconvert_exporter": "python",
   "pygments_lexer": "ipython3",
   "version": "3.11.4"
  }
 },
 "nbformat": 4,
 "nbformat_minor": 4
}
