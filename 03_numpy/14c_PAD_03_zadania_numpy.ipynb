{
  "nbformat": 4,
  "nbformat_minor": 0,
  "metadata": {
    "colab": {
      "provenance": []
    },
    "kernelspec": {
      "name": "python3",
      "display_name": "Python 3"
    },
    "language_info": {
      "name": "python"
    }
  },
  "cells": [
    {
      "cell_type": "markdown",
      "source": [
        "## wyjątki"
      ],
      "metadata": {
        "id": "Yp1hCg5fnqW_"
      }
    },
    {
      "cell_type": "markdown",
      "source": [
        "Napisz program, który będzie kalkulatorem:\n",
        "- program ma pobierać od użytkownika input: liczba operator liczba\n",
        "- każdy znak w inpucie po spacji, np. 1 + 1\n",
        "- pobrany input należy przerobić na listę i sprawdzić jej poprawność:\n",
        "  - jeżeli w liście jest więcej niż 3 elementy - podnieś wyjątek IllegalFormulaError\n",
        "  - IllegalFormulaError ma być własnym wyjątkiem stworzonym przez Ciebie\n",
        "  - zamień liczby na typ float\n",
        "  - jeśli liczby zmieniane na float zwrócą ValueError - przechwyć go i podnieć IllegalFormulaError i wyświetl komunikat \"1 i 3 wartość muszą być liczbam\"\n",
        "  - jeśli użytkownik zamiast +, -, * lub / da inny operator, również zwróć IllegalFormulaError\n",
        "- jeśli nie wystąpił żaden wyjątek wyświetl wynik\n",
        "- pobieraj input od użytkownika tak długo jak użytkownik nie wpisze w inpucike polecenia KONIEC\n",
        "- działania na operatorach zawrzyj w funkcji"
      ],
      "metadata": {
        "id": "ub1UG2Ch0f6Q"
      }
    },
    {
      "cell_type": "code",
      "execution_count": null,
      "metadata": {
        "id": "A6onwAE6nkwu"
      },
      "outputs": [],
      "source": []
    },
    {
      "cell_type": "markdown",
      "source": [
        "## numpy"
      ],
      "metadata": {
        "id": "zZtBZ2XNnuHk"
      }
    },
    {
      "cell_type": "code",
      "source": [
        "import numpy as np\n",
        "\n",
        "v = np.array([1,2.0,3, 5, 6, 3, 5,6], dtype=int)"
      ],
      "metadata": {
        "id": "StbS6jVdTbDv"
      },
      "execution_count": 26,
      "outputs": []
    },
    {
      "cell_type": "code",
      "source": [
        "v"
      ],
      "metadata": {
        "colab": {
          "base_uri": "https://localhost:8080/"
        },
        "id": "bVJVTJO6Xk4E",
        "outputId": "d084a33f-0ea2-4940-edb6-2fcf575e9556"
      },
      "execution_count": 27,
      "outputs": [
        {
          "output_type": "execute_result",
          "data": {
            "text/plain": [
              "array([1, 2, 3, 5, 6, 3, 5, 6])"
            ]
          },
          "metadata": {},
          "execution_count": 27
        }
      ]
    },
    {
      "cell_type": "code",
      "source": [
        "v[v < 4]"
      ],
      "metadata": {
        "colab": {
          "base_uri": "https://localhost:8080/"
        },
        "id": "326cET5hY-zD",
        "outputId": "52c59926-af34-4876-f35c-b1f5679fade0"
      },
      "execution_count": 37,
      "outputs": [
        {
          "output_type": "execute_result",
          "data": {
            "text/plain": [
              "array([1, 2, 3, 3])"
            ]
          },
          "metadata": {},
          "execution_count": 37
        }
      ]
    },
    {
      "cell_type": "code",
      "source": [
        "np.sum(v < 4)"
      ],
      "metadata": {
        "colab": {
          "base_uri": "https://localhost:8080/"
        },
        "id": "xIsAKhaiXmWW",
        "outputId": "49427515-ec84-4615-8d04-c7aa983bc827"
      },
      "execution_count": 29,
      "outputs": [
        {
          "output_type": "execute_result",
          "data": {
            "text/plain": [
              "4"
            ]
          },
          "metadata": {},
          "execution_count": 29
        }
      ]
    },
    {
      "cell_type": "code",
      "source": [
        "m = np.array([[1,2,3], [4,5,6]])\n",
        "m"
      ],
      "metadata": {
        "colab": {
          "base_uri": "https://localhost:8080/"
        },
        "id": "n4wupvXDT40L",
        "outputId": "bc51a2e3-7fe4-46e7-a0d0-a0daf1117701"
      },
      "execution_count": 14,
      "outputs": [
        {
          "output_type": "execute_result",
          "data": {
            "text/plain": [
              "array([[1, 2, 3],\n",
              "       [4, 5, 6]])"
            ]
          },
          "metadata": {},
          "execution_count": 14
        }
      ]
    },
    {
      "cell_type": "code",
      "source": [
        "np.empty(5)"
      ],
      "metadata": {
        "colab": {
          "base_uri": "https://localhost:8080/"
        },
        "id": "77ysHt7zUMWX",
        "outputId": "9033fb7a-bfe5-43b7-a60c-0b553f7c5733"
      },
      "execution_count": 8,
      "outputs": [
        {
          "output_type": "execute_result",
          "data": {
            "text/plain": [
              "array([0., 0., 0., 0., 0.])"
            ]
          },
          "metadata": {},
          "execution_count": 8
        }
      ]
    },
    {
      "cell_type": "code",
      "source": [
        "v[1:]"
      ],
      "metadata": {
        "colab": {
          "base_uri": "https://localhost:8080/"
        },
        "id": "ta_TIaHIUbU3",
        "outputId": "f2bb14b9-48fb-4437-c102-d96398619c8e"
      },
      "execution_count": 15,
      "outputs": [
        {
          "output_type": "execute_result",
          "data": {
            "text/plain": [
              "array([2, 3])"
            ]
          },
          "metadata": {},
          "execution_count": 15
        }
      ]
    },
    {
      "cell_type": "code",
      "source": [
        "m[0,2]"
      ],
      "metadata": {
        "colab": {
          "base_uri": "https://localhost:8080/"
        },
        "id": "JTO-Z4e1Uje3",
        "outputId": "89c507ef-4d2a-4779-9f0c-42f592b7491c"
      },
      "execution_count": 13,
      "outputs": [
        {
          "output_type": "execute_result",
          "data": {
            "text/plain": [
              "3"
            ]
          },
          "metadata": {},
          "execution_count": 13
        }
      ]
    },
    {
      "cell_type": "markdown",
      "source": [
        "1. Korzystając z poniższego kodu oraz pliku `Zadanie_1.csv` utwórz tablicę zawierającą wzrost prezydentów USA."
      ],
      "metadata": {
        "id": "lO5X1CFanwuq"
      }
    },
    {
      "cell_type": "code",
      "source": [
        "import pandas as pd\n",
        "import numpy as np\n",
        "\n",
        "data_ = pd.read_csv('./drive/MyDrive/Nauczanie/2023_zima/PAD/03_numpy/cwiczenia/Zadanie_1.csv')\n",
        "data = np.array(data_['height(cm)'])\n",
        "print(data)\n",
        "print(type(data[0]))"
      ],
      "metadata": {
        "id": "EqV8dAQWnwDr",
        "colab": {
          "base_uri": "https://localhost:8080/"
        },
        "outputId": "3658c6c5-70c2-4167-a3df-9e57c6709351"
      },
      "execution_count": 18,
      "outputs": [
        {
          "output_type": "stream",
          "name": "stdout",
          "text": [
            "[189 170 189 163 183 171 185 168 173 183 173 173 175 178 183 193 178 173\n",
            " 174 183 183 168 170 178 182 180 183 178 182 188 175 179 183 193 182 183\n",
            " 177 185 188 188 182 185]\n",
            "<class 'numpy.int64'>\n"
          ]
        }
      ]
    },
    {
      "cell_type": "code",
      "source": [
        "data_.head()"
      ],
      "metadata": {
        "colab": {
          "base_uri": "https://localhost:8080/",
          "height": 206
        },
        "id": "ZbfItImFWM7J",
        "outputId": "70703648-4761-4090-8887-7aa435447054"
      },
      "execution_count": 19,
      "outputs": [
        {
          "output_type": "execute_result",
          "data": {
            "text/plain": [
              "   order               name  height(cm)\n",
              "0      1  George Washington         189\n",
              "1      2         John Adams         170\n",
              "2      3   Thomas Jefferson         189\n",
              "3      4      James Madison         163\n",
              "4      5       James Monroe         183"
            ],
            "text/html": [
              "\n",
              "  <div id=\"df-e9de4ccc-2af0-4af0-bb3d-819fb66607f1\" class=\"colab-df-container\">\n",
              "    <div>\n",
              "<style scoped>\n",
              "    .dataframe tbody tr th:only-of-type {\n",
              "        vertical-align: middle;\n",
              "    }\n",
              "\n",
              "    .dataframe tbody tr th {\n",
              "        vertical-align: top;\n",
              "    }\n",
              "\n",
              "    .dataframe thead th {\n",
              "        text-align: right;\n",
              "    }\n",
              "</style>\n",
              "<table border=\"1\" class=\"dataframe\">\n",
              "  <thead>\n",
              "    <tr style=\"text-align: right;\">\n",
              "      <th></th>\n",
              "      <th>order</th>\n",
              "      <th>name</th>\n",
              "      <th>height(cm)</th>\n",
              "    </tr>\n",
              "  </thead>\n",
              "  <tbody>\n",
              "    <tr>\n",
              "      <th>0</th>\n",
              "      <td>1</td>\n",
              "      <td>George Washington</td>\n",
              "      <td>189</td>\n",
              "    </tr>\n",
              "    <tr>\n",
              "      <th>1</th>\n",
              "      <td>2</td>\n",
              "      <td>John Adams</td>\n",
              "      <td>170</td>\n",
              "    </tr>\n",
              "    <tr>\n",
              "      <th>2</th>\n",
              "      <td>3</td>\n",
              "      <td>Thomas Jefferson</td>\n",
              "      <td>189</td>\n",
              "    </tr>\n",
              "    <tr>\n",
              "      <th>3</th>\n",
              "      <td>4</td>\n",
              "      <td>James Madison</td>\n",
              "      <td>163</td>\n",
              "    </tr>\n",
              "    <tr>\n",
              "      <th>4</th>\n",
              "      <td>5</td>\n",
              "      <td>James Monroe</td>\n",
              "      <td>183</td>\n",
              "    </tr>\n",
              "  </tbody>\n",
              "</table>\n",
              "</div>\n",
              "    <div class=\"colab-df-buttons\">\n",
              "\n",
              "  <div class=\"colab-df-container\">\n",
              "    <button class=\"colab-df-convert\" onclick=\"convertToInteractive('df-e9de4ccc-2af0-4af0-bb3d-819fb66607f1')\"\n",
              "            title=\"Convert this dataframe to an interactive table.\"\n",
              "            style=\"display:none;\">\n",
              "\n",
              "  <svg xmlns=\"http://www.w3.org/2000/svg\" height=\"24px\" viewBox=\"0 -960 960 960\">\n",
              "    <path d=\"M120-120v-720h720v720H120Zm60-500h600v-160H180v160Zm220 220h160v-160H400v160Zm0 220h160v-160H400v160ZM180-400h160v-160H180v160Zm440 0h160v-160H620v160ZM180-180h160v-160H180v160Zm440 0h160v-160H620v160Z\"/>\n",
              "  </svg>\n",
              "    </button>\n",
              "\n",
              "  <style>\n",
              "    .colab-df-container {\n",
              "      display:flex;\n",
              "      gap: 12px;\n",
              "    }\n",
              "\n",
              "    .colab-df-convert {\n",
              "      background-color: #E8F0FE;\n",
              "      border: none;\n",
              "      border-radius: 50%;\n",
              "      cursor: pointer;\n",
              "      display: none;\n",
              "      fill: #1967D2;\n",
              "      height: 32px;\n",
              "      padding: 0 0 0 0;\n",
              "      width: 32px;\n",
              "    }\n",
              "\n",
              "    .colab-df-convert:hover {\n",
              "      background-color: #E2EBFA;\n",
              "      box-shadow: 0px 1px 2px rgba(60, 64, 67, 0.3), 0px 1px 3px 1px rgba(60, 64, 67, 0.15);\n",
              "      fill: #174EA6;\n",
              "    }\n",
              "\n",
              "    .colab-df-buttons div {\n",
              "      margin-bottom: 4px;\n",
              "    }\n",
              "\n",
              "    [theme=dark] .colab-df-convert {\n",
              "      background-color: #3B4455;\n",
              "      fill: #D2E3FC;\n",
              "    }\n",
              "\n",
              "    [theme=dark] .colab-df-convert:hover {\n",
              "      background-color: #434B5C;\n",
              "      box-shadow: 0px 1px 3px 1px rgba(0, 0, 0, 0.15);\n",
              "      filter: drop-shadow(0px 1px 2px rgba(0, 0, 0, 0.3));\n",
              "      fill: #FFFFFF;\n",
              "    }\n",
              "  </style>\n",
              "\n",
              "    <script>\n",
              "      const buttonEl =\n",
              "        document.querySelector('#df-e9de4ccc-2af0-4af0-bb3d-819fb66607f1 button.colab-df-convert');\n",
              "      buttonEl.style.display =\n",
              "        google.colab.kernel.accessAllowed ? 'block' : 'none';\n",
              "\n",
              "      async function convertToInteractive(key) {\n",
              "        const element = document.querySelector('#df-e9de4ccc-2af0-4af0-bb3d-819fb66607f1');\n",
              "        const dataTable =\n",
              "          await google.colab.kernel.invokeFunction('convertToInteractive',\n",
              "                                                    [key], {});\n",
              "        if (!dataTable) return;\n",
              "\n",
              "        const docLinkHtml = 'Like what you see? Visit the ' +\n",
              "          '<a target=\"_blank\" href=https://colab.research.google.com/notebooks/data_table.ipynb>data table notebook</a>'\n",
              "          + ' to learn more about interactive tables.';\n",
              "        element.innerHTML = '';\n",
              "        dataTable['output_type'] = 'display_data';\n",
              "        await google.colab.output.renderOutput(dataTable, element);\n",
              "        const docLink = document.createElement('div');\n",
              "        docLink.innerHTML = docLinkHtml;\n",
              "        element.appendChild(docLink);\n",
              "      }\n",
              "    </script>\n",
              "  </div>\n",
              "\n",
              "\n",
              "<div id=\"df-d8655c6c-320c-4b27-8572-f0f74f8efbfe\">\n",
              "  <button class=\"colab-df-quickchart\" onclick=\"quickchart('df-d8655c6c-320c-4b27-8572-f0f74f8efbfe')\"\n",
              "            title=\"Suggest charts.\"\n",
              "            style=\"display:none;\">\n",
              "\n",
              "<svg xmlns=\"http://www.w3.org/2000/svg\" height=\"24px\"viewBox=\"0 0 24 24\"\n",
              "     width=\"24px\">\n",
              "    <g>\n",
              "        <path d=\"M19 3H5c-1.1 0-2 .9-2 2v14c0 1.1.9 2 2 2h14c1.1 0 2-.9 2-2V5c0-1.1-.9-2-2-2zM9 17H7v-7h2v7zm4 0h-2V7h2v10zm4 0h-2v-4h2v4z\"/>\n",
              "    </g>\n",
              "</svg>\n",
              "  </button>\n",
              "\n",
              "<style>\n",
              "  .colab-df-quickchart {\n",
              "      --bg-color: #E8F0FE;\n",
              "      --fill-color: #1967D2;\n",
              "      --hover-bg-color: #E2EBFA;\n",
              "      --hover-fill-color: #174EA6;\n",
              "      --disabled-fill-color: #AAA;\n",
              "      --disabled-bg-color: #DDD;\n",
              "  }\n",
              "\n",
              "  [theme=dark] .colab-df-quickchart {\n",
              "      --bg-color: #3B4455;\n",
              "      --fill-color: #D2E3FC;\n",
              "      --hover-bg-color: #434B5C;\n",
              "      --hover-fill-color: #FFFFFF;\n",
              "      --disabled-bg-color: #3B4455;\n",
              "      --disabled-fill-color: #666;\n",
              "  }\n",
              "\n",
              "  .colab-df-quickchart {\n",
              "    background-color: var(--bg-color);\n",
              "    border: none;\n",
              "    border-radius: 50%;\n",
              "    cursor: pointer;\n",
              "    display: none;\n",
              "    fill: var(--fill-color);\n",
              "    height: 32px;\n",
              "    padding: 0;\n",
              "    width: 32px;\n",
              "  }\n",
              "\n",
              "  .colab-df-quickchart:hover {\n",
              "    background-color: var(--hover-bg-color);\n",
              "    box-shadow: 0 1px 2px rgba(60, 64, 67, 0.3), 0 1px 3px 1px rgba(60, 64, 67, 0.15);\n",
              "    fill: var(--button-hover-fill-color);\n",
              "  }\n",
              "\n",
              "  .colab-df-quickchart-complete:disabled,\n",
              "  .colab-df-quickchart-complete:disabled:hover {\n",
              "    background-color: var(--disabled-bg-color);\n",
              "    fill: var(--disabled-fill-color);\n",
              "    box-shadow: none;\n",
              "  }\n",
              "\n",
              "  .colab-df-spinner {\n",
              "    border: 2px solid var(--fill-color);\n",
              "    border-color: transparent;\n",
              "    border-bottom-color: var(--fill-color);\n",
              "    animation:\n",
              "      spin 1s steps(1) infinite;\n",
              "  }\n",
              "\n",
              "  @keyframes spin {\n",
              "    0% {\n",
              "      border-color: transparent;\n",
              "      border-bottom-color: var(--fill-color);\n",
              "      border-left-color: var(--fill-color);\n",
              "    }\n",
              "    20% {\n",
              "      border-color: transparent;\n",
              "      border-left-color: var(--fill-color);\n",
              "      border-top-color: var(--fill-color);\n",
              "    }\n",
              "    30% {\n",
              "      border-color: transparent;\n",
              "      border-left-color: var(--fill-color);\n",
              "      border-top-color: var(--fill-color);\n",
              "      border-right-color: var(--fill-color);\n",
              "    }\n",
              "    40% {\n",
              "      border-color: transparent;\n",
              "      border-right-color: var(--fill-color);\n",
              "      border-top-color: var(--fill-color);\n",
              "    }\n",
              "    60% {\n",
              "      border-color: transparent;\n",
              "      border-right-color: var(--fill-color);\n",
              "    }\n",
              "    80% {\n",
              "      border-color: transparent;\n",
              "      border-right-color: var(--fill-color);\n",
              "      border-bottom-color: var(--fill-color);\n",
              "    }\n",
              "    90% {\n",
              "      border-color: transparent;\n",
              "      border-bottom-color: var(--fill-color);\n",
              "    }\n",
              "  }\n",
              "</style>\n",
              "\n",
              "  <script>\n",
              "    async function quickchart(key) {\n",
              "      const quickchartButtonEl =\n",
              "        document.querySelector('#' + key + ' button');\n",
              "      quickchartButtonEl.disabled = true;  // To prevent multiple clicks.\n",
              "      quickchartButtonEl.classList.add('colab-df-spinner');\n",
              "      try {\n",
              "        const charts = await google.colab.kernel.invokeFunction(\n",
              "            'suggestCharts', [key], {});\n",
              "      } catch (error) {\n",
              "        console.error('Error during call to suggestCharts:', error);\n",
              "      }\n",
              "      quickchartButtonEl.classList.remove('colab-df-spinner');\n",
              "      quickchartButtonEl.classList.add('colab-df-quickchart-complete');\n",
              "    }\n",
              "    (() => {\n",
              "      let quickchartButtonEl =\n",
              "        document.querySelector('#df-d8655c6c-320c-4b27-8572-f0f74f8efbfe button');\n",
              "      quickchartButtonEl.style.display =\n",
              "        google.colab.kernel.accessAllowed ? 'block' : 'none';\n",
              "    })();\n",
              "  </script>\n",
              "</div>\n",
              "    </div>\n",
              "  </div>\n"
            ]
          },
          "metadata": {},
          "execution_count": 19
        }
      ]
    },
    {
      "cell_type": "markdown",
      "source": [
        "Korzystając z pakietu NumPy podaj:\n",
        "- średni wzrost\n",
        "- odchylenie standardowe\n",
        "- najwyższy oraz najniższy wzrost:\n"
      ],
      "metadata": {
        "id": "dd2hB7gsojiL"
      }
    },
    {
      "cell_type": "code",
      "source": [
        "print(\"Średni wzrost \", round(np.mean(data), 2))\n",
        "print(\"Odchylenie standardowe \", round(np.std(data), 2))\n",
        "print(\"Maksymalny wzrost \", np.max(data))\n",
        "print(\"Minimalny wzrost \", np.min(data))"
      ],
      "metadata": {
        "id": "5CBFy878ohq1",
        "colab": {
          "base_uri": "https://localhost:8080/"
        },
        "outputId": "25b05dc3-9dab-457f-c111-4ec75ccf6c42"
      },
      "execution_count": 21,
      "outputs": [
        {
          "output_type": "stream",
          "name": "stdout",
          "text": [
            "Średni wzrost  179.74\n",
            "Odchylenie standardowe  6.93\n",
            "Maksymalny wzrost  193\n",
            "Minimalny wzrost  163\n"
          ]
        }
      ]
    },
    {
      "cell_type": "markdown",
      "source": [
        "Podaj również 25 i 75 kwantyl oraz medianę:"
      ],
      "metadata": {
        "id": "H5GJvIXFrabE"
      }
    },
    {
      "cell_type": "code",
      "source": [
        "print(\"25 kwantyl \", np.percentile(data, 25))\n",
        "print(\"75 kwantyl \", np.percentile(data, 75))\n",
        "print(\"Mediana \", np.median(data))"
      ],
      "metadata": {
        "id": "ea8MmGaArWVT",
        "colab": {
          "base_uri": "https://localhost:8080/"
        },
        "outputId": "b9ba6094-0d36-44af-dcfb-789987c724b4"
      },
      "execution_count": 22,
      "outputs": [
        {
          "output_type": "stream",
          "name": "stdout",
          "text": [
            "25 kwantyl  174.25\n",
            "75 kwantyl  183.0\n",
            "Mediana  182.0\n"
          ]
        }
      ]
    },
    {
      "cell_type": "markdown",
      "source": [
        "---\n",
        "2. Wgraj dane z pliku `Zadanie_2.csv`.\n",
        "- Znajdź wektory własne, oraz wartości własne dla zawartej w pliku macierzy\n",
        "- Oblicz macierz odwrotną dla macierzy z pliku\n"
      ],
      "metadata": {
        "id": "lLR5_N2-reHz"
      }
    },
    {
      "cell_type": "code",
      "source": [
        "matrix = np.genfromtxt('./drive/MyDrive/Nauczanie/2023_zima/PAD/03_numpy/cwiczenia/Zadanie_2.csv', delimiter=';')\n",
        "matrix"
      ],
      "metadata": {
        "id": "ylst1dqJrj-g",
        "colab": {
          "base_uri": "https://localhost:8080/"
        },
        "outputId": "31a8d5ba-2a53-42ae-bec9-c1c3a5118b47"
      },
      "execution_count": 69,
      "outputs": [
        {
          "output_type": "execute_result",
          "data": {
            "text/plain": [
              "array([[  1.,   2.,  15., -59.,   9.,   3.,  75.,   6.,   7.,   1.],\n",
              "       [  0.,   5.,   0.,   4.,   6.,  16.,  44.,   7.,   1.,   1.],\n",
              "       [  7.,  14.,   3., -10.,   9.,  15.,  73.,   8.,   2.,   9.],\n",
              "       [  1.,   5.,  15., -54.,   5.,  15.,  35.,   8.,   6.,   4.],\n",
              "       [  0.,   8.,   5., -18.,   7.,  16.,  91.,   6.,   7.,   9.],\n",
              "       [  7.,  18.,  23., -90.,   4.,   8.,  31.,   0.,   1.,   7.],\n",
              "       [  2.,   8.,  20., -72.,   4.,   1.,  91.,   9.,   4.,   4.],\n",
              "       [  4.,  12.,  18., -65.,   6.,   9.,  76.,   4.,   9.,   9.],\n",
              "       [  7.,  15.,  13., -52.,   5.,   7.,  54.,   2.,   7.,   0.],\n",
              "       [  2.,   9.,  15., -56.,   6.,   1.,  98.,   4.,   8.,   4.]])"
            ]
          },
          "metadata": {},
          "execution_count": 69
        }
      ]
    },
    {
      "cell_type": "code",
      "source": [
        "np.linalg.eig(matrix)"
      ],
      "metadata": {
        "colab": {
          "base_uri": "https://localhost:8080/"
        },
        "id": "tZv-DDS9d0gh",
        "outputId": "dfa52e80-fe4a-4654-c24b-13de6f2d48e4"
      },
      "execution_count": 70,
      "outputs": [
        {
          "output_type": "execute_result",
          "data": {
            "text/plain": [
              "(array([104.34960192 +0.j        , -23.35660516+18.84992811j,\n",
              "        -23.35660516-18.84992811j,  15.92989017 +0.j        ,\n",
              "         -4.99456452 +0.j        ,   0.35205717 +5.80125175j,\n",
              "          0.35205717 -5.80125175j,  -1.03383491 +0.j        ,\n",
              "          3.87900166 +1.42651533j,   3.87900166 -1.42651533j]),\n",
              " array([[-0.29000475+0.j        , -0.07545445+0.07743149j,\n",
              "         -0.07545445-0.07743149j, -0.03544485+0.j        ,\n",
              "          0.42681634+0.j        , -0.22172831-0.29869259j,\n",
              "         -0.22172831+0.29869259j,  0.41343726+0.j        ,\n",
              "         -0.28670255+0.21891569j, -0.28670255-0.21891569j],\n",
              "        [-0.24163153+0.j        ,  0.41229621+0.09197324j,\n",
              "          0.41229621-0.09197324j,  0.45873475+0.j        ,\n",
              "         -0.27056206+0.j        , -0.01331344+0.1422557j ,\n",
              "         -0.01331344-0.1422557j , -0.31591047+0.j        ,\n",
              "          0.41954481-0.10561864j,  0.41954481+0.10561864j],\n",
              "        [-0.41060573+0.j        ,  0.37509638-0.00960818j,\n",
              "          0.37509638+0.00960818j,  0.64067986+0.j        ,\n",
              "         -0.37967609+0.j        , -0.60525232+0.j        ,\n",
              "         -0.60525232-0.j        ,  0.6457768 +0.j        ,\n",
              "          0.63631555+0.j        ,  0.63631555-0.j        ],\n",
              "        [-0.18899971+0.j        , -0.05624951+0.174848j  ,\n",
              "         -0.05624951-0.174848j  ,  0.25174536+0.j        ,\n",
              "         -0.07625465+0.j        , -0.14870016-0.00795735j,\n",
              "         -0.14870016+0.00795735j,  0.15206852+0.j        ,\n",
              "          0.21373907+0.00228636j,  0.21373907-0.00228636j],\n",
              "        [-0.42862199+0.j        ,  0.47707538+0.14580554j,\n",
              "          0.47707538-0.14580554j,  0.39445834+0.j        ,\n",
              "         -0.69542141+0.j        ,  0.07336021-0.43070469j,\n",
              "          0.07336021+0.43070469j, -0.25948775+0.j        ,\n",
              "          0.20250102-0.00411374j,  0.20250102+0.00411374j],\n",
              "        [-0.14730562+0.j        , -0.57352911+0.j        ,\n",
              "         -0.57352911-0.j        ,  0.10071325+0.j        ,\n",
              "          0.30158403+0.j        , -0.04758838+0.12911829j,\n",
              "         -0.04758838-0.12911829j,  0.21274791+0.j        ,\n",
              "         -0.1503483 +0.03452906j, -0.1503483 -0.03452906j],\n",
              "        [-0.34660607+0.j        , -0.13987374+0.06837303j,\n",
              "         -0.13987374-0.06837303j, -0.04800705+0.j        ,\n",
              "          0.06798106+0.j        ,  0.00512204+0.04215641j,\n",
              "          0.00512204-0.04215641j,  0.05365357+0.j        ,\n",
              "         -0.0534517 +0.00550802j, -0.0534517 -0.00550802j],\n",
              "        [-0.34919853+0.j        , -0.08414467+0.07749664j,\n",
              "         -0.08414467-0.07749664j,  0.25925893+0.j        ,\n",
              "         -0.10039982+0.j        , -0.06761437-0.25584347j,\n",
              "         -0.06761437+0.25584347j, -0.38214447+0.j        ,\n",
              "          0.29485109-0.01300678j,  0.29485109+0.01300678j],\n",
              "        [-0.2440048 +0.j        , -0.13777908+0.00402196j,\n",
              "         -0.13777908-0.00402196j,  0.27709282+0.j        ,\n",
              "         -0.00524365+0.j        ,  0.21866893+0.04463336j,\n",
              "          0.21866893-0.04463336j, -0.12045798+0.j        ,\n",
              "          0.27558332+0.02285482j,  0.27558332-0.02285482j],\n",
              "        [-0.38231403+0.j        , -0.00476199+0.03456836j,\n",
              "         -0.00476199-0.03456836j,  0.04918165+0.j        ,\n",
              "          0.07322815+0.j        ,  0.1819345 -0.29687727j,\n",
              "          0.1819345 +0.29687727j, -0.11445044+0.j        ,\n",
              "          0.02830199+0.00579727j,  0.02830199-0.00579727j]]))"
            ]
          },
          "metadata": {},
          "execution_count": 70
        }
      ]
    },
    {
      "cell_type": "code",
      "source": [
        "try:\n",
        "  inv_m = np.linalg.inv(matrix)\n",
        "except:\n",
        "  print(\"Macierz odwrotna nie istnieje\")\n",
        "\n",
        "inv_m"
      ],
      "metadata": {
        "colab": {
          "base_uri": "https://localhost:8080/"
        },
        "id": "PXwJpcjTeAGK",
        "outputId": "608621f1-5353-454b-8c3b-1d42ac9ec193"
      },
      "execution_count": 73,
      "outputs": [
        {
          "output_type": "execute_result",
          "data": {
            "text/plain": [
              "array([[ 0.47461371,  0.13269253, -0.24726695, -0.82965177,  0.28250384,\n",
              "        -0.17012825,  0.58274426,  0.83686705,  0.4146721 , -1.56942847],\n",
              "       [-0.38032531, -0.11226789,  0.23216372,  0.58853747, -0.2508954 ,\n",
              "         0.10174485, -0.40729564, -0.58325689, -0.2335154 ,  1.11832726],\n",
              "       [ 0.13559662,  0.58950334, -0.24709855, -0.58789838, -0.30170699,\n",
              "        -0.12721938,  0.23740295,  1.01003036, -0.02151387, -0.64590149],\n",
              "       [ 0.01425207,  0.14570726, -0.04557569, -0.12721972, -0.08945184,\n",
              "        -0.03756624,  0.03910376,  0.23606066, -0.01436771, -0.11345749],\n",
              "       [-0.09473246,  0.01725249,  0.19145597,  0.32960274, -0.28626296,\n",
              "         0.08348529, -0.37577603, -0.27295934, -0.25855803,  0.74691827],\n",
              "       [ 0.16387032,  0.10075684, -0.15404907, -0.29794662,  0.16916877,\n",
              "        -0.02827782,  0.20469921,  0.28036265,  0.15086178, -0.5882585 ],\n",
              "       [ 0.04288003,  0.02246462, -0.0366803 , -0.09024915,  0.04322146,\n",
              "        -0.01047861,  0.06167348,  0.07009721,  0.0367806 , -0.14185925],\n",
              "       [-0.26858433, -0.21167346,  0.25168367,  0.55607234, -0.16804333,\n",
              "         0.01066975, -0.22435849, -0.52957038, -0.15757224,  0.77302113],\n",
              "       [-0.15583541, -0.13041404,  0.0984558 ,  0.3150966 , -0.09916278,\n",
              "        -0.04426337, -0.20832614, -0.18404388, -0.04309498,  0.45794224],\n",
              "       [-0.05970783, -0.11342903,  0.09122544,  0.11908074, -0.00311646,\n",
              "         0.02370807, -0.07526552, -0.06924544, -0.10963836,  0.16553689]])"
            ]
          },
          "metadata": {},
          "execution_count": 73
        }
      ]
    },
    {
      "cell_type": "markdown",
      "source": [
        "---\n",
        "3. Plik `Zadanie_3.csv` zawiera informacje o rocznych opadach w Seattle w 2014. Wykorzystaj kod poniżej aby wczytać plik."
      ],
      "metadata": {
        "id": "Nsez0YSdrkZP"
      }
    },
    {
      "cell_type": "code",
      "source": [
        "data_ = pd.read_csv('./drive/MyDrive/Nauczanie/2023_zima/PAD/03_numpy/cwiczenia/Zadanie_3.csv')\n",
        "data = data_['PRCP'].values"
      ],
      "metadata": {
        "id": "JoYQ0KMFsP0Z"
      },
      "execution_count": 24,
      "outputs": []
    },
    {
      "cell_type": "markdown",
      "source": [
        "Możemy zwizualizować dane następującym kodem:"
      ],
      "metadata": {
        "id": "Np-JiZEsstly"
      }
    },
    {
      "cell_type": "code",
      "source": [
        "%matplotlib inline\n",
        "import matplotlib.pyplot as plt\n",
        "import seaborn; seaborn.set()\n",
        "plt.hist(data, 40)"
      ],
      "metadata": {
        "id": "_nGjTmQMswPc",
        "colab": {
          "base_uri": "https://localhost:8080/",
          "height": 625
        },
        "outputId": "19a5bda3-b6d3-4157-86cb-a0005fee1622"
      },
      "execution_count": 25,
      "outputs": [
        {
          "output_type": "execute_result",
          "data": {
            "text/plain": [
              "(array([245.,  14.,  13.,  17.,   8.,   6.,   5.,   6.,   4.,   3.,   7.,\n",
              "          6.,   3.,   3.,   3.,   4.,   4.,   2.,   4.,   0.,   0.,   1.,\n",
              "          1.,   1.,   0.,   0.,   0.,   2.,   1.,   1.,   0.,   0.,   0.,\n",
              "          0.,   0.,   0.,   0.,   0.,   0.,   1.]),\n",
              " array([  0.   ,  11.675,  23.35 ,  35.025,  46.7  ,  58.375,  70.05 ,\n",
              "         81.725,  93.4  , 105.075, 116.75 , 128.425, 140.1  , 151.775,\n",
              "        163.45 , 175.125, 186.8  , 198.475, 210.15 , 221.825, 233.5  ,\n",
              "        245.175, 256.85 , 268.525, 280.2  , 291.875, 303.55 , 315.225,\n",
              "        326.9  , 338.575, 350.25 , 361.925, 373.6  , 385.275, 396.95 ,\n",
              "        408.625, 420.3  , 431.975, 443.65 , 455.325, 467.   ]),\n",
              " <BarContainer object of 40 artists>)"
            ]
          },
          "metadata": {},
          "execution_count": 25
        },
        {
          "output_type": "display_data",
          "data": {
            "text/plain": [
              "<Figure size 640x480 with 1 Axes>"
            ],
            "image/png": "[encoded data removed]"
          },
          "metadata": {}
        }
      ]
    },
    {
      "cell_type": "markdown",
      "source": [
        "Wykorzystując operatory logiczne znajdź dni, kiedy:\n",
        "- Nie padało\n",
        "- Padało\n",
        "- Spadło powyżej 13 mm deszczu\n",
        "- Spadło poniżej 5 mm deszczu, ale padało!\n",
        "\n",
        "Do wyświetlenia wyników skorzystaj z:\n",
        "```\n",
        "print(\"Number days without rain:      \")\n",
        "print(\"Number days with rain:         \")\n",
        "print(\"Days with more than 13 mm:     \")\n",
        "print(\"Rainy days with < 5 mm  :      \")\n",
        "```\n"
      ],
      "metadata": {
        "id": "j0jfV9Ius3oB"
      }
    },
    {
      "cell_type": "code",
      "source": [
        "print(\"Dni bez deszczu: \", np.sum(data == 0))\n",
        "print(\"Dni deszczowe: \", np.sum(data != 0))\n",
        "print(\"Dni z opadem powyżej 13 mm: \", np.sum(data > 13))\n",
        "print(\"Dni desczoweej 5 mm: \", np.sum((v < 5) & (v > 0)))"
      ],
      "metadata": {
        "id": "K21U9F5BsmkK",
        "colab": {
          "base_uri": "https://localhost:8080/"
        },
        "outputId": "359545dc-a710-403a-cdb4-f9ac99e8b1e3"
      },
      "execution_count": 35,
      "outputs": [
        {
          "output_type": "stream",
          "name": "stdout",
          "text": [
            "Dni bez deszczu:  215\n",
            "Dni deszczowe:  150\n",
            "Dni z opadem powyżej 13 mm:  117\n",
            "Dni desczoweej 5 mm:  4\n"
          ]
        }
      ]
    },
    {
      "cell_type": "markdown",
      "source": [
        "Korzystając z maskowania policz następujące statystyki:\n",
        "- Medianę opadów w deszczowe dni w 2014 roku\n",
        "- Medianę opadów latem w 2014 roku (czyli dni pomiędzy dniem 172 a 262)\n",
        "- Maksymalne opady latem 2014 roku\n",
        "- Maksymalne opady poza latem 2014 roku (czyli wiosna, jesień i zima)\n",
        "\n",
        "Do wyświetlenia wyników skorzystaj z:\n",
        "```\n",
        "print(\"Median precip on rainy days in 2014 (inches):   \")\n",
        "print(\"Median precip on summer days in 2014 (inches):  \")\n",
        "print(\"Maximum precip on summer days in 2014 (inches): \")\n",
        "print(\"Median precip on non-summer rainy days (inches):\")\n",
        "```\n",
        "\n",
        "\n"
      ],
      "metadata": {
        "id": "bzS95iYVtPax"
      }
    },
    {
      "cell_type": "code",
      "source": [
        "maska_deszczowe = data > 0\n",
        "dni = np.arange(365)\n",
        "dni\n",
        "dni_letnie = (dni > 172) & (dni < 262)\n",
        "\n",
        "print(\"Mediana dni deszczowych: \", np.median(data[maska_deszczowe]))\n",
        "print(\"Mediana dni deszczowych letnich: \", np.median(data[maska_deszczowe & dni_letnie]))\n",
        "print(\"Makszymalne opady latem: \", np.max(data[dni_letnie]))\n",
        "print(\"Mediana opadów poza latem: \", np.median(data[maska_deszczowe & ~dni_letnie]))"
      ],
      "metadata": {
        "id": "NS6bFF3FsrBb",
        "colab": {
          "base_uri": "https://localhost:8080/"
        },
        "outputId": "ac9af950-7326-4d35-b2ea-30c4d3a03516"
      },
      "execution_count": 51,
      "outputs": [
        {
          "output_type": "stream",
          "name": "stdout",
          "text": [
            "Mediana dni deszczowych:  49.5\n",
            "Mediana dni deszczowych letnich:  15.5\n",
            "Makszymalne opady latem:  216\n",
            "Mediana opadów poza latem:  51.0\n"
          ]
        }
      ]
    },
    {
      "cell_type": "markdown",
      "source": [
        "---\n",
        "4. Dane są dwa wektory A i B.\n",
        "```\n",
        "A = [0,3,2,5]\n",
        "B = [0,3,1,4]\n",
        "```\n",
        "\n",
        "Wykonaj następujące operacje:\n",
        "- przedstaw wektory jako tablice\n",
        "- Dodaj A i B\n",
        "- Odejmij B od A\n",
        "- Pomnóż wektor A przez skalar a=4\n",
        "- Oblicz iloczyn skalarny wektorów A i B\n",
        "- Znajdź długość wektora B (w przestrzeni, nie chodzi o size!)\n",
        "\n",
        "Te operacje można wykonać „ręcznie” w Pythonie, ale postaraj się znaleźć odpowiednie funkcje NumPy.\n"
      ],
      "metadata": {
        "id": "45_Q0MXbtf3r"
      }
    },
    {
      "cell_type": "code",
      "source": [
        "vector_A = [0,3,2,5]\n",
        "vector_B = [0,3,1,4]\n",
        "\n",
        "def dodawanie_vec(v1, v2):\n",
        "  vector_koncowy = []\n",
        "  for v1_var, v2_var in zip(v1, v2):\n",
        "    suma = v1_var + v2_var\n",
        "    vector_koncowy.append(suma)\n",
        "  return vector_koncowy"
      ],
      "metadata": {
        "id": "WVhnpy9rvM99"
      },
      "execution_count": 56,
      "outputs": []
    },
    {
      "cell_type": "code",
      "source": [
        "dodawanie_vec(vector_A, vector_B)"
      ],
      "metadata": {
        "colab": {
          "base_uri": "https://localhost:8080/"
        },
        "id": "aA9Mrb3ob8Pw",
        "outputId": "47acf580-7a29-40b0-844b-611f831385d2"
      },
      "execution_count": 57,
      "outputs": [
        {
          "output_type": "execute_result",
          "data": {
            "text/plain": [
              "[0, 6, 3, 9]"
            ]
          },
          "metadata": {},
          "execution_count": 57
        }
      ]
    },
    {
      "cell_type": "code",
      "source": [
        "vector_A = np.array([0,3,2,5])\n",
        "vector_B = np.array([0,3,1,4])\n",
        "np.add(vector_A, vector_B)"
      ],
      "metadata": {
        "colab": {
          "base_uri": "https://localhost:8080/"
        },
        "id": "qDs9T691cn4Q",
        "outputId": "3bd185e0-6983-4dcd-e90a-d25162766cc9"
      },
      "execution_count": 64,
      "outputs": [
        {
          "output_type": "execute_result",
          "data": {
            "text/plain": [
              "array([0, 6, 3, 9])"
            ]
          },
          "metadata": {},
          "execution_count": 64
        }
      ]
    },
    {
      "cell_type": "code",
      "source": [
        "np.subtract(vector_A, vector_B)"
      ],
      "metadata": {
        "colab": {
          "base_uri": "https://localhost:8080/"
        },
        "id": "DOqCSzINcz0Y",
        "outputId": "1f4bba01-ff1a-4a0e-86ee-96279b7f4777"
      },
      "execution_count": 65,
      "outputs": [
        {
          "output_type": "execute_result",
          "data": {
            "text/plain": [
              "array([0, 0, 1, 1])"
            ]
          },
          "metadata": {},
          "execution_count": 65
        }
      ]
    },
    {
      "cell_type": "code",
      "source": [
        "a = 4\n",
        "vector_A * a"
      ],
      "metadata": {
        "colab": {
          "base_uri": "https://localhost:8080/"
        },
        "id": "S7pHLBa5c8-C",
        "outputId": "3cf1b1e7-8937-4fe4-d847-e675b07a0f6d"
      },
      "execution_count": 66,
      "outputs": [
        {
          "output_type": "execute_result",
          "data": {
            "text/plain": [
              "array([ 0, 12,  8, 20])"
            ]
          },
          "metadata": {},
          "execution_count": 66
        }
      ]
    },
    {
      "cell_type": "code",
      "source": [
        "np.dot(vector_A, vector_B)"
      ],
      "metadata": {
        "colab": {
          "base_uri": "https://localhost:8080/"
        },
        "id": "g48ygQNfdNlo",
        "outputId": "6034cd50-1b91-42fc-ceca-498a4b3c3bc0"
      },
      "execution_count": 67,
      "outputs": [
        {
          "output_type": "execute_result",
          "data": {
            "text/plain": [
              "31"
            ]
          },
          "metadata": {},
          "execution_count": 67
        }
      ]
    },
    {
      "cell_type": "code",
      "source": [
        "np.linalg.norm(vector_B)"
      ],
      "metadata": {
        "colab": {
          "base_uri": "https://localhost:8080/"
        },
        "id": "_mXJ4xTfdWU4",
        "outputId": "a2071628-cde5-443a-a702-08addfaad92c"
      },
      "execution_count": 68,
      "outputs": [
        {
          "output_type": "execute_result",
          "data": {
            "text/plain": [
              "5.0990195135927845"
            ]
          },
          "metadata": {},
          "execution_count": 68
        }
      ]
    }
  ]
}